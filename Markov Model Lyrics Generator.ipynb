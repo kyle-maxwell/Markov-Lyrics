{
 "cells": [
  {
   "cell_type": "markdown",
   "metadata": {},
   "source": [
    "# Markov Model Lyrics Generator\n",
    "\n",
    "If you would like to generate lyrics for an artist of your choosing, replace the http://www.lyricsfreak.com link with a different artist.\n",
    "\n",
    "The following web scraping works for lyricsfreak.com. However, if you wish to use another site, find a site that has links to a large number of songs by your chosen artist. Scrape the page, extract the hyperlinks, and issue new HTTP requests to each hyperlink to get each song. Use `time.sleep(0.1)` to stagger your HTTP requests so that you do not get banned by the website for making too many requests. \n",
    "\n",
    "Skip to section **Bigram Markov Chain Model** section of this notebook once you have scraped the lyrics into a Python list called `lyrics`, where each element of the list represents the lyrics of one song. Make sure to add `\"<START>\"`, `\"<END>\"`, and `\"<N>\"` tags in your lyrics to denote the start and end of songs, as well as new lines.\n"
   ]
  },
  {
   "cell_type": "markdown",
   "metadata": {},
   "source": [
    "# Scraping Song Lyrics"
   ]
  },
  {
   "cell_type": "code",
   "execution_count": 1,
   "metadata": {},
   "outputs": [],
   "source": [
    "import requests\n",
    "import time\n",
    "from bs4 import BeautifulSoup\n",
    "import pandas as pd"
   ]
  },
  {
   "cell_type": "code",
   "execution_count": 2,
   "metadata": {},
   "outputs": [],
   "source": [
    "resp = requests.get(\"http://www.lyricsfreak.com/k/kanye+west/\")\n",
    "soup = BeautifulSoup(resp.content, \"html.parser\")"
   ]
  },
  {
   "cell_type": "code",
   "execution_count": 3,
   "metadata": {},
   "outputs": [],
   "source": [
    "links = []\n",
    "for a in soup.find_all('a'):\n",
    "    link = a.get('href')\n",
    "    if link is not None and '/k/' in link:\n",
    "        links.append(\"http://www.lyricsfreak.com\" + link)\n",
    "\n",
    "links = pd.DataFrame(links, columns=[\"Link\"])"
   ]
  },
  {
   "cell_type": "code",
   "execution_count": 4,
   "metadata": {},
   "outputs": [],
   "source": [
    "lyrics = []\n",
    "for link in links.Link:\n",
    "    time.sleep(0.1)\n",
    "    resp = requests.get(link)\n",
    "    soup = BeautifulSoup(resp.content, \"html.parser\")\n",
    "    text = soup.find(id=\"content_h\").prettify()\n",
    "    lyrics.append(text)"
   ]
  },
  {
   "cell_type": "code",
   "execution_count": 6,
   "metadata": {},
   "outputs": [],
   "source": [
    "cleaned_lyrics = []\n",
    "for text in lyrics:\n",
    "    cleaned = ''.join(e for e in text.lower() if e.isalnum() | (e == ' '))\n",
    "    cleaned = cleaned.replace(\"br\", \"<N>\").split()[3:-1]\n",
    "\n",
    "    cleaned.insert(0, \"<START>\")\n",
    "    cleaned.append(\"<END>\")\n",
    "    cleaned_lyrics.append(cleaned)\n",
    "\n",
    "lyrics = cleaned_lyrics"
   ]
  },
  {
   "cell_type": "markdown",
   "metadata": {},
   "source": [
    "# Bigram Markov Chain Model\n",
    "\n",
    "Markov chain that uses the last two words (bigram) to predict the next word.\n"
   ]
  },
  {
   "cell_type": "code",
   "execution_count": 13,
   "metadata": {},
   "outputs": [],
   "source": [
    "def train_markov_chain(lyrics):\n",
    "    chain = {(None, \"<START>\"): []}\n",
    "    for lyric in lyrics:\n",
    "        lyric.insert(0, None)\n",
    "        for word1, word2, next_word in zip(lyric, lyric[1:], lyric[2:]):\n",
    "            if (word1, word2) in chain.keys():\n",
    "                chain[(word1, word2)].append(next_word)\n",
    "            else:\n",
    "                chain[(word1, word2)] = [next_word]\n",
    "    return chain\n"
   ]
  },
  {
   "cell_type": "code",
   "execution_count": 14,
   "metadata": {},
   "outputs": [],
   "source": [
    "chain = train_markov_chain(lyrics)"
   ]
  },
  {
   "cell_type": "code",
   "execution_count": 15,
   "metadata": {},
   "outputs": [],
   "source": [
    "import random\n",
    "\n",
    "def generate_new_lyrics(chain):\n",
    "    song = []\n",
    "    song.append(\"<START>\")\n",
    "    word = random.choice(chain[(None, \"<START>\")])\n",
    "    song.append(word)\n",
    "    \n",
    "    i = 0\n",
    "    while word != \"<END>\":\n",
    "        word = random.choice(chain[(song[i], word)])\n",
    "        song.append(word)\n",
    "        i += 1\n",
    "        \n",
    "    lyrics = \" \".join(song[:-1])\n",
    "    lyrics = \"\\n\".join(lyrics.split(\"<N>\"))\n",
    "    return lyrics"
   ]
  },
  {
   "cell_type": "markdown",
   "metadata": {},
   "source": [
    "# Generate Lyrics"
   ]
  },
  {
   "cell_type": "code",
   "execution_count": 16,
   "metadata": {},
   "outputs": [
    {
     "name": "stdout",
     "output_type": "stream",
     "text": [
      "<START> dogs barking \n",
      " intro choir \n",
      " higher \n",
      " do anybody make real shit \n",
      " whole buncha lot of flirting involved \n",
      " but you know i know \n",
      " till im beer on the phone \n",
      " ohhh waaaa oow i want more \n",
      " well you need a new space \n",
      " still i feel its fadin \n",
      " \n",
      " you got me sayin a sister who was uninvited who was hip hops \n",
      "other \n",
      " on the freeway \n",
      " then imma probe you \n",
      " threw the mud \n",
      " whos provoking you \n",
      " need a news crews presence \n",
      " speedboat swerve homie watch out for a rocawear \n",
      " more populaire cause i just blame everything on you turnin me no \n",
      " cuz im so goose \n",
      " summer time no juice \n",
      " big faced hundreds and whatever other synonyms \n",
      " strippers named cinnamon \n",
      " more specifically they can drop me some kicks \n",
      " so \n",
      " right now let me go let me see you in the lac truck \n",
      " ill fly away \n",
      " dont say nothin bout what ye said \n",
      " dont look down its the are o c \n",
      " ima get a shot of us \n",
      " \n",
      " outro kanye west \n",
      " album college dropout unreleased \n",
      " song whole life to steven king \n",
      " you do it \n",
      " screams from the chi town slash philly \n",
      " check check my swag and get ugh\n"
     ]
    }
   ],
   "source": [
    "print(generate_new_lyrics(chain))"
   ]
  }
 ],
 "metadata": {
  "kernelspec": {
   "display_name": "Python 3",
   "language": "python",
   "name": "python3"
  },
  "language_info": {
   "codemirror_mode": {
    "name": "ipython",
    "version": 3
   },
   "file_extension": ".py",
   "mimetype": "text/x-python",
   "name": "python",
   "nbconvert_exporter": "python",
   "pygments_lexer": "ipython3",
   "version": "3.6.6"
  }
 },
 "nbformat": 4,
 "nbformat_minor": 2
}
